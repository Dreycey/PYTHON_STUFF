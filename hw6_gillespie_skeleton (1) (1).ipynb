{
 "cells": [
  {
   "cell_type": "code",
   "execution_count": 10,
   "metadata": {
    "collapsed": true
   },
   "outputs": [],
   "source": [
    "import numpy as np\n",
    "import scipy as sp\n",
    "import matplotlib.pyplot as plt\n",
    "from scipy.integrate import odeint"
   ]
  },
  {
   "cell_type": "code",
   "execution_count": 24,
   "metadata": {},
   "outputs": [
    {
     "data": {
      "image/png": "[encoded data removed]",
      "text/plain": [
       "<matplotlib.figure.Figure at 0xefbb38bf60>"
      ]
     },
     "metadata": {},
     "output_type": "display_data"
    }
   ],
   "source": [
    "#ODE numerical integration skeleton\n",
    "#Reaction constants\n",
    "kplus = 0.8\n",
    "kminus = 0.2\n",
    "a_m = 20\n",
    "a_p = 2\n",
    "b_m = 0.1\n",
    "b_p = 0.04\n",
    "g_tot = 10 \n",
    "\n",
    "\n",
    "#, kplus, kminus, a_m, a_p, b_m, b_p, g_tot\n",
    "def ode_grad(c, t):\n",
    "    c_p, c_m, c_gon, c_goff = c #Concentrations of species x, y, z\n",
    "    \n",
    "    #TODO: Return the ODE derivatives\n",
    "    f1=(c_m)*(a_p)-(c_p)*(b_p)\n",
    "    f2=(c_gon)*(a_m)-(c_m)*(b_m)\n",
    "    f3=c_goff * kplus - c_gon * kminus\n",
    "    f4=(10-(c_gon))\n",
    "\n",
    "    a1=\n",
    "    a2=\n",
    "    a3=\n",
    "    a4=\n",
    "    a5=\n",
    "    a6=\n",
    "    dcdt = [f1, f2, f3, f4]\n",
    "    return dcdt\n",
    "\n",
    "\n",
    "#Time space initialization\n",
    "t0 = 0\n",
    "tn = 200\n",
    "tsteps = 1001\n",
    "\n",
    "#Initial species concentrations\n",
    "p = 0\n",
    "m = 0\n",
    "g_on = 0\n",
    "g_off = 10\n",
    "\n",
    "c0 = [p, m, g_on, g_off]\n",
    "t_space = np.linspace(t0, tn, tsteps)\n",
    "\n",
    "#TODO: Solve the ODE using scipy.integrate.odeint\n",
    "\n",
    "sol = odeint(ode_grad, c0, t_space)\n",
    "\n",
    "#TODO: Write plot code to plot the obtained solution curve(s)\n",
    "import matplotlib.pyplot as plt\n",
    "plt.plot(t_space, sol[:, 0], 'b', label='[p]')\n",
    "plt.plot(t_space, sol[:, 1], 'g', label='[m]')\n",
    "plt.plot(t_space, sol[:, 2], 'r', label='[g_on]')\n",
    "plt.plot(t_space, sol[:, 3], 'y', label='[g_off]')\n",
    "plt.legend(loc='best')\n",
    "plt.xlabel('time (seconds)')\n",
    "plt.grid()\n",
    "plt.show()"
   ]
  },
  {
   "cell_type": "code",
   "execution_count": 3,
   "metadata": {},
   "outputs": [
    {
     "ename": "SyntaxError",
     "evalue": "unexpected EOF while parsing (<ipython-input-3-c44a471b9f53>, line 43)",
     "output_type": "error",
     "traceback": [
      "\u001b[1;36m  File \u001b[1;32m\"<ipython-input-3-c44a471b9f53>\"\u001b[1;36m, line \u001b[1;32m43\u001b[0m\n\u001b[1;33m    \u001b[0m\n\u001b[1;37m    ^\u001b[0m\n\u001b[1;31mSyntaxError\u001b[0m\u001b[1;31m:\u001b[0m unexpected EOF while parsing\n"
     ]
    }
   ],
   "source": [
    "#Gillespie simulation skeleton\n",
    "\n",
    "n_iters = 10\n",
    "\n",
    "#TODO: Initialize some structure to hold the gillespie simulation curves (the results), for later plotting\n",
    "\n",
    "#Reaction constants\n",
    "kplus = 0.8\n",
    "kminus = 0.2\n",
    "a_m = 20\n",
    "a_p = 2\n",
    "b_m = 0.1\n",
    "b_p = 0.04\n",
    "g_tot = 10 \n",
    "\n",
    "\n",
    "for n_iter in range(0, n_iters) :\n",
    "\n",
    "    print('Iteration ' + str(n_iter))\n",
    "    t = 0\n",
    "    t_max = 200\n",
    "\n",
    "    #Initial molecule counts for each species\n",
    "    p = 0\n",
    "    m = 0\n",
    "    g_on = 0\n",
    "    g_off = 10\n",
    "    \n",
    "    \n",
    "    while t < t_max :\n",
    "        \n",
    "        #TODO: Calculate the value of the kinetics of each reaction\n",
    "        \n",
    "        \n",
    "        #TODO: Normalize each kinetics value by the sum of kinetics values\n",
    "\n",
    "        #TODO: Randomly sample one of the reactions according to the normalized kinetics values (i.e. their probabilities)\n",
    "        #TIP: Use numpy.random.choice\n",
    "        \n",
    "        #TODO: Randomly sample the small increase in time, according to an exponential distribution\n",
    "        #TIP: Use numpy.random.exponential\n",
    "\n",
    "        #TODO: Update molecule counts (the result of the randomly chosen reaction)\n",
    "\n",
    "        #TODO: Update time t according to the randomly samples time increase\n",
    "\n",
    "        #TODO: Store the current values of time and molecule counts (for later plotting)\n",
    "    \n",
    "    #TODO: Store the completed gillespie iteration as one simulation curve (for later plotting)\n",
    "\n"
   ]
  },
  {
   "cell_type": "code",
   "execution_count": null,
   "metadata": {},
   "outputs": [],
   "source": [
    "#TODO: Write plot code to plot all of the gillespie simulation curves\n",
    "#Also plot the deterministic ODE solution (tip: plot using thicker line width or some other distinguishing trait)\n",
    "#Also, the homework might ask you to plot other attrbutes in this plot as well!\n"
   ]
  }
 ],
 "metadata": {
  "kernelspec": {
   "display_name": "Python 3",
   "language": "python",
   "name": "python3"
  },
  "language_info": {
   "codemirror_mode": {
    "name": "ipython",
    "version": 3
   },
   "file_extension": ".py",
   "mimetype": "text/x-python",
   "name": "python",
   "nbconvert_exporter": "python",
   "pygments_lexer": "ipython3",
   "version": "3.6.2"
  }
 },
 "nbformat": 4,
 "nbformat_minor": 1
}
